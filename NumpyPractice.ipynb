{
 "cells": [
  {
   "cell_type": "markdown",
   "metadata": {
    "id": "yHZV3_CsrFHM"
   },
   "source": [
    "## **Numpy**"
   ]
  },
  {
   "cell_type": "markdown",
   "metadata": {
    "id": "sYmvbznJqNgV"
   },
   "source": [
    "**what is Numpy ?**\n",
    "\n",
    "Numpy is Linear algebra Library python.\n",
    "Used for perfroming mathematical and ligical operation an arrays.\n",
    "Provides features for operation an multi-dimensional arrays and matrics in python."
   ]
  },
  {
   "cell_type": "markdown",
   "metadata": {
    "id": "t8mvJXlFrQIq"
   },
   "source": [
    "**How to create numpy arrays ?**"
   ]
  },
  {
   "cell_type": "markdown",
   "metadata": {
    "id": "x0heJqZDrX9c"
   },
   "source": [
    "1-D array:"
   ]
  },
  {
   "cell_type": "code",
   "execution_count": 3,
   "metadata": {
    "id": "Fx7Q47UqqIds"
   },
   "outputs": [
    {
     "name": "stdout",
     "output_type": "stream",
     "text": [
      "[1 2 3 4]\n"
     ]
    }
   ],
   "source": [
    "import numpy as np\n",
    "a = np.array([1,2,3,4])\n",
    "print(a) "
   ]
  },
  {
   "cell_type": "markdown",
   "metadata": {
    "id": "TNumOKlFsDYz"
   },
   "source": [
    "2-D array:"
   ]
  },
  {
   "cell_type": "code",
   "execution_count": 4,
   "metadata": {
    "id": "9HRHFXBfrtWH"
   },
   "outputs": [
    {
     "name": "stdout",
     "output_type": "stream",
     "text": [
      "[[1 2 3]\n",
      " [5 6 7]]\n"
     ]
    }
   ],
   "source": [
    "import numpy as np\n",
    "b = np.array([[1,2,3,],\n",
    "              [5,6,7]])\n",
    "print(b) "
   ]
  },
  {
   "cell_type": "markdown",
   "metadata": {
    "id": "-_XW9xW04uex"
   },
   "source": [
    "3-D array:"
   ]
  },
  {
   "cell_type": "code",
   "execution_count": 5,
   "metadata": {
    "id": "01-c3Jt14zfV"
   },
   "outputs": [
    {
     "name": "stdout",
     "output_type": "stream",
     "text": [
      "[[1 2 3]\n",
      " [5 6 7]\n",
      " [8 6 7]]\n"
     ]
    }
   ],
   "source": [
    "import numpy as np\n",
    "b = np.array([[1,2,3],\n",
    "              [5,6,7],\n",
    "              [8,6,7]])\n",
    "print(b) "
   ]
  },
  {
   "cell_type": "markdown",
   "metadata": {
    "id": "OLFZ9YfSw5yC"
   },
   "source": [
    "**Intialize an array of 'x' x 'y' DIMENSION WITH 0**"
   ]
  },
  {
   "cell_type": "code",
   "execution_count": 6,
   "metadata": {
    "id": "8IUlxqp9rtS8"
   },
   "outputs": [
    {
     "data": {
      "text/plain": [
       "array([[0., 0., 0., 0.],\n",
       "       [0., 0., 0., 0.],\n",
       "       [0., 0., 0., 0.]])"
      ]
     },
     "execution_count": 6,
     "metadata": {},
     "output_type": "execute_result"
    }
   ],
   "source": [
    "np.zeros((3,4))"
   ]
  },
  {
   "cell_type": "code",
   "execution_count": 7,
   "metadata": {
    "id": "IJQd2KLQrtQj"
   },
   "outputs": [
    {
     "data": {
      "text/plain": [
       "array([[1., 1., 1., 1.],\n",
       "       [1., 1., 1., 1.],\n",
       "       [1., 1., 1., 1.]])"
      ]
     },
     "execution_count": 7,
     "metadata": {},
     "output_type": "execute_result"
    }
   ],
   "source": [
    "np.ones((3,4))"
   ]
  },
  {
   "cell_type": "code",
   "execution_count": 8,
   "metadata": {
    "id": "WpkCQQNC5kQo"
   },
   "outputs": [
    {
     "data": {
      "text/plain": [
       "array([[0.17205098, 0.19723455, 0.53396871, 0.67246582],\n",
       "       [0.04395685, 0.42662442, 0.19581861, 0.96934104],\n",
       "       [0.48920293, 0.92160329, 0.72804275, 0.25996234]])"
      ]
     },
     "execution_count": 8,
     "metadata": {},
     "output_type": "execute_result"
    }
   ],
   "source": [
    "np.random.random((3,4))"
   ]
  },
  {
   "cell_type": "markdown",
   "metadata": {
    "id": "VYFErKwoxm0c"
   },
   "source": [
    "**Arranging the numbers between x and y with an interval of z**"
   ]
  },
  {
   "cell_type": "code",
   "execution_count": 9,
   "metadata": {
    "id": "GJqZ0nR9rtN7"
   },
   "outputs": [
    {
     "data": {
      "text/plain": [
       "array([1, 3, 5, 7, 9])"
      ]
     },
     "execution_count": 9,
     "metadata": {},
     "output_type": "execute_result"
    }
   ],
   "source": [
    "import numpy as np\n",
    "np.arange(1,10,2)"
   ]
  },
  {
   "cell_type": "code",
   "execution_count": 10,
   "metadata": {
    "id": "DWrWD3airtLT"
   },
   "outputs": [
    {
     "data": {
      "text/plain": [
       "array([ 0,  3,  6,  9, 12, 15, 18])"
      ]
     },
     "execution_count": 10,
     "metadata": {},
     "output_type": "execute_result"
    }
   ],
   "source": [
    "np.arange(0,20,3)"
   ]
  },
  {
   "cell_type": "code",
   "execution_count": 11,
   "metadata": {
    "id": "Owp026lvrtDz"
   },
   "outputs": [
    {
     "data": {
      "text/plain": [
       "array([ 1,  6, 11, 16, 21, 26])"
      ]
     },
     "execution_count": 11,
     "metadata": {},
     "output_type": "execute_result"
    }
   ],
   "source": [
    "np.arange(1,30,5)"
   ]
  },
  {
   "cell_type": "code",
   "execution_count": 12,
   "metadata": {
    "id": "LpXAD0oHzOE2"
   },
   "outputs": [
    {
     "data": {
      "text/plain": [
       "array([10, 15, 20, 25])"
      ]
     },
     "execution_count": 12,
     "metadata": {},
     "output_type": "execute_result"
    }
   ],
   "source": [
    "np.arange(10,30,5)"
   ]
  },
  {
   "cell_type": "markdown",
   "metadata": {
    "id": "poUMr1RW0MMF"
   },
   "source": [
    "**Arrange 'z' numbers between x and y**"
   ]
  },
  {
   "cell_type": "code",
   "execution_count": 13,
   "metadata": {
    "id": "b3YOJrVozOCc"
   },
   "outputs": [
    {
     "data": {
      "text/plain": [
       "array([ 5.        ,  5.55555556,  6.11111111,  6.66666667,  7.22222222,\n",
       "        7.77777778,  8.33333333,  8.88888889,  9.44444444, 10.        ])"
      ]
     },
     "execution_count": 13,
     "metadata": {},
     "output_type": "execute_result"
    }
   ],
   "source": [
    "np.linspace(5,10,10)"
   ]
  },
  {
   "cell_type": "code",
   "execution_count": 14,
   "metadata": {
    "id": "VdTZybqUzN_8"
   },
   "outputs": [
    {
     "data": {
      "text/plain": [
       "array([ 0.,  2.,  4.,  6.,  8., 10.])"
      ]
     },
     "execution_count": 14,
     "metadata": {},
     "output_type": "execute_result"
    }
   ],
   "source": [
    "#even numbers between 0 to 10\n",
    "np.linspace(0,10,6)"
   ]
  },
  {
   "cell_type": "code",
   "execution_count": 15,
   "metadata": {
    "id": "FgmmLl6fzN9d"
   },
   "outputs": [
    {
     "data": {
      "text/plain": [
       "array([ 5.  ,  6.25,  7.5 ,  8.75, 10.  ])"
      ]
     },
     "execution_count": 15,
     "metadata": {},
     "output_type": "execute_result"
    }
   ],
   "source": [
    "np.linspace(5,10,5)"
   ]
  },
  {
   "cell_type": "markdown",
   "metadata": {
    "id": "6R7Zp-YV1uz3"
   },
   "source": [
    "**filling SAME number in a array dimension**"
   ]
  },
  {
   "cell_type": "code",
   "execution_count": 16,
   "metadata": {
    "id": "725RPjTczN7G"
   },
   "outputs": [
    {
     "data": {
      "text/plain": [
       "array([[5, 5],\n",
       "       [5, 5]])"
      ]
     },
     "execution_count": 16,
     "metadata": {},
     "output_type": "execute_result"
    }
   ],
   "source": [
    "np.full((2,2),5)#full is function"
   ]
  },
  {
   "cell_type": "code",
   "execution_count": 17,
   "metadata": {
    "id": "XDbyMa-EzN4s"
   },
   "outputs": [
    {
     "data": {
      "text/plain": [
       "array([[2, 2, 2, 2],\n",
       "       [2, 2, 2, 2],\n",
       "       [2, 2, 2, 2]])"
      ]
     },
     "execution_count": 17,
     "metadata": {},
     "output_type": "execute_result"
    }
   ],
   "source": [
    "np.full((3,4),2)"
   ]
  },
  {
   "cell_type": "code",
   "execution_count": 18,
   "metadata": {
    "id": "5Vb_HBvZzN2W"
   },
   "outputs": [
    {
     "data": {
      "text/plain": [
       "array([[6, 6, 6],\n",
       "       [6, 6, 6],\n",
       "       [6, 6, 6]])"
      ]
     },
     "execution_count": 18,
     "metadata": {},
     "output_type": "execute_result"
    }
   ],
   "source": [
    "np.full((3,3),6)"
   ]
  },
  {
   "cell_type": "markdown",
   "metadata": {
    "id": "DlB-EgEe2P62"
   },
   "source": [
    "**filling RANDOM number in a array of dimension x and y**"
   ]
  },
  {
   "cell_type": "code",
   "execution_count": 19,
   "metadata": {
    "id": "WFfdh-y_zNz0"
   },
   "outputs": [
    {
     "data": {
      "text/plain": [
       "array([[0.66854849, 0.30810444],\n",
       "       [0.39507804, 0.89719996]])"
      ]
     },
     "execution_count": 19,
     "metadata": {},
     "output_type": "execute_result"
    }
   ],
   "source": [
    "np.random.random((2,2)) # random is function"
   ]
  },
  {
   "cell_type": "code",
   "execution_count": 20,
   "metadata": {
    "id": "nwE7k-GwzNxc"
   },
   "outputs": [
    {
     "data": {
      "text/plain": [
       "array([[0.67172741, 0.78010235, 0.56162478, 0.70955395],\n",
       "       [0.17017359, 0.61344071, 0.53411142, 0.63364244],\n",
       "       [0.44530974, 0.29389635, 0.63867394, 0.6249244 ]])"
      ]
     },
     "execution_count": 20,
     "metadata": {},
     "output_type": "execute_result"
    }
   ],
   "source": [
    "np.random.random((3,4,))"
   ]
  },
  {
   "cell_type": "markdown",
   "metadata": {
    "id": "bTd0SpviwBh0"
   },
   "source": [
    "Inspecting the array: checking the size of array"
   ]
  },
  {
   "cell_type": "code",
   "execution_count": 21,
   "metadata": {
    "id": "DNCmybso20je"
   },
   "outputs": [
    {
     "name": "stdout",
     "output_type": "stream",
     "text": [
      "(2, 3)\n"
     ]
    }
   ],
   "source": [
    "a=np.array([[1,2,3],[4,5,6]]) #2 two row and three column or three element and 2 array\n",
    "print(a.shape)"
   ]
  },
  {
   "cell_type": "code",
   "execution_count": 22,
   "metadata": {
    "id": "hetdmEZE20g-"
   },
   "outputs": [
    {
     "name": "stdout",
     "output_type": "stream",
     "text": [
      "(3, 4)\n"
     ]
    }
   ],
   "source": [
    "b=np.array([[1,2,3,4],[4,9,5,6],[1,2,5,3]])\n",
    "print(b.shape)"
   ]
  },
  {
   "cell_type": "markdown",
   "metadata": {
    "id": "siYoIMtJ0iP2"
   },
   "source": [
    "**Inspecting the array: Resize of array**"
   ]
  },
  {
   "cell_type": "code",
   "execution_count": 23,
   "metadata": {
    "id": "Be4KZhd-20eN"
   },
   "outputs": [
    {
     "name": "stdout",
     "output_type": "stream",
     "text": [
      "[[1 2]\n",
      " [3 4]\n",
      " [5 6]]\n"
     ]
    }
   ],
   "source": [
    "a=np.array([[1,2,3],[4,5,6]]) \n",
    "a.shape=(3,2)\n",
    "print(a)"
   ]
  },
  {
   "cell_type": "code",
   "execution_count": 24,
   "metadata": {
    "id": "ilL_RkK-20bF"
   },
   "outputs": [
    {
     "name": "stdout",
     "output_type": "stream",
     "text": [
      "[[1 2]\n",
      " [3 7]\n",
      " [4 8]\n",
      " [5 6]]\n"
     ]
    }
   ],
   "source": [
    "a=np.array([[1,2,3,7],[4,8,5,6]]) \n",
    "a.shape=(4,2)\n",
    "print(a)"
   ]
  },
  {
   "cell_type": "code",
   "execution_count": 25,
   "metadata": {
    "id": "iz0zFAJA2zRN"
   },
   "outputs": [
    {
     "name": "stdout",
     "output_type": "stream",
     "text": [
      "[[1]\n",
      " [2]\n",
      " [3]\n",
      " [7]\n",
      " [4]\n",
      " [8]\n",
      " [5]\n",
      " [6]]\n"
     ]
    }
   ],
   "source": [
    "a=np.array([[1,2,3,7],[4,8,5,6]]) \n",
    "a.shape=(8,1) #trick x*y=total number of elemnts in the array\n",
    "print(a)"
   ]
  },
  {
   "cell_type": "markdown",
   "metadata": {
    "id": "-Z1twabr4DvO"
   },
   "source": [
    "**Return the dimension of the array**"
   ]
  },
  {
   "cell_type": "code",
   "execution_count": 26,
   "metadata": {
    "id": "RoeEA1Hk2zNF"
   },
   "outputs": [
    {
     "name": "stdout",
     "output_type": "stream",
     "text": [
      "1\n"
     ]
    }
   ],
   "source": [
    "a = np.arange(24)\n",
    "a\n",
    "print(a.ndim)"
   ]
  },
  {
   "cell_type": "code",
   "execution_count": 27,
   "metadata": {
    "id": "VvbncL672zJt"
   },
   "outputs": [
    {
     "name": "stdout",
     "output_type": "stream",
     "text": [
      "3\n"
     ]
    },
    {
     "data": {
      "text/plain": [
       "array([[[ 0,  1,  2,  3],\n",
       "        [ 4,  5,  6,  7]],\n",
       "\n",
       "       [[ 8,  9, 10, 11],\n",
       "        [12, 13, 14, 15]],\n",
       "\n",
       "       [[16, 17, 18, 19],\n",
       "        [20, 21, 22, 23]]])"
      ]
     },
     "execution_count": 27,
     "metadata": {},
     "output_type": "execute_result"
    }
   ],
   "source": [
    "#reshape of array\n",
    "b=a.reshape(3,2,4) #trick: Calculate the factors of 24:1,2,3,4,6,12,24,\n",
    "print(b.ndim)\n",
    "b"
   ]
  },
  {
   "cell_type": "markdown",
   "metadata": {
    "id": "i1jlsXwO62B3"
   },
   "source": [
    "**Find the number of element in an array**"
   ]
  },
  {
   "cell_type": "code",
   "execution_count": 29,
   "metadata": {
    "id": "31FUt1UW2zFd"
   },
   "outputs": [
    {
     "data": {
      "text/plain": [
       "array([ 0,  1,  2,  3,  4,  5,  6,  7,  8,  9, 10, 11, 12, 13, 14, 15, 16,\n",
       "       17, 18, 19, 20, 21, 22, 23, 24])"
      ]
     },
     "execution_count": 29,
     "metadata": {},
     "output_type": "execute_result"
    }
   ],
   "source": [
    "a=np.arange(25)\n",
    "a"
   ]
  },
  {
   "cell_type": "code",
   "execution_count": 30,
   "metadata": {
    "id": "MpxYRO732y9s"
   },
   "outputs": [
    {
     "name": "stdout",
     "output_type": "stream",
     "text": [
      "25\n"
     ]
    }
   ],
   "source": [
    "print(a.size)"
   ]
  },
  {
   "cell_type": "code",
   "execution_count": 31,
   "metadata": {
    "id": "cElISERk2y6v"
   },
   "outputs": [
    {
     "name": "stdout",
     "output_type": "stream",
     "text": [
      "9\n"
     ]
    }
   ],
   "source": [
    "d=np.array([[1,2,3],[1,2,3],[4,5,6]])\n",
    "print(d.size)"
   ]
  },
  {
   "cell_type": "code",
   "execution_count": 32,
   "metadata": {
    "id": "2OMvBths2y39"
   },
   "outputs": [
    {
     "name": "stdout",
     "output_type": "stream",
     "text": [
      "16\n"
     ]
    }
   ],
   "source": [
    "d=np.array([[1,2,3,8],[1,8,2,3],[1,2,5,3],[4,5,5,6]])\n",
    "print(d.size)"
   ]
  },
  {
   "cell_type": "markdown",
   "metadata": {
    "id": "o3nXX1Jx936J"
   },
   "source": [
    "**Data type**\n",
    "\n",
    "**Find the data type of an array.**"
   ]
  },
  {
   "cell_type": "code",
   "execution_count": 33,
   "metadata": {
    "id": "oDkp-6vk2yyN"
   },
   "outputs": [
    {
     "name": "stdout",
     "output_type": "stream",
     "text": [
      "24\n",
      "float64\n"
     ]
    },
    {
     "data": {
      "text/plain": [
       "array([[[ 0.,  1.],\n",
       "        [ 2.,  3.],\n",
       "        [ 4.,  5.],\n",
       "        [ 6.,  7.]],\n",
       "\n",
       "       [[ 8.,  9.],\n",
       "        [10., 11.],\n",
       "        [12., 13.],\n",
       "        [14., 15.]],\n",
       "\n",
       "       [[16., 17.],\n",
       "        [18., 19.],\n",
       "        [20., 21.],\n",
       "        [22., 23.]]])"
      ]
     },
     "execution_count": 33,
     "metadata": {},
     "output_type": "execute_result"
    }
   ],
   "source": [
    "a=np.arange(24,dtype=float)\n",
    "print(a.size)\n",
    "print(a.dtype)\n",
    "b=a.reshape(3,4,2)\n",
    "b"
   ]
  },
  {
   "cell_type": "markdown",
   "metadata": {
    "id": "couexaCRBCv_"
   },
   "source": [
    "**Numpy Array Mathematics**"
   ]
  },
  {
   "cell_type": "markdown",
   "metadata": {
    "id": "Z2Z-W7JsBTBH"
   },
   "source": [
    "Numpy Array Mathematics : **ADDITION**"
   ]
  },
  {
   "cell_type": "code",
   "execution_count": 34,
   "metadata": {
    "id": "GkO9OX712yvV"
   },
   "outputs": [
    {
     "data": {
      "text/plain": [
       "40"
      ]
     },
     "execution_count": 34,
     "metadata": {},
     "output_type": "execute_result"
    }
   ],
   "source": [
    "import numpy as np\n",
    "np.sum([10,30])"
   ]
  },
  {
   "cell_type": "code",
   "execution_count": 35,
   "metadata": {
    "id": "xCGNMxzS2yjG"
   },
   "outputs": [
    {
     "data": {
      "text/plain": [
       "40"
      ]
     },
     "execution_count": 35,
     "metadata": {},
     "output_type": "execute_result"
    }
   ],
   "source": [
    "#using a varible parameter\n",
    "a,b=10,30\n",
    "np.sum([a,b])"
   ]
  },
  {
   "cell_type": "code",
   "execution_count": 36,
   "metadata": {
    "id": "W3tzRPuKB-Nz"
   },
   "outputs": [
    {
     "data": {
      "text/plain": [
       "array([20, 60])"
      ]
     },
     "execution_count": 36,
     "metadata": {},
     "output_type": "execute_result"
    }
   ],
   "source": [
    "np.sum([[10,30],[10,30]],axis=0)"
   ]
  },
  {
   "cell_type": "code",
   "execution_count": 37,
   "metadata": {
    "id": "_R9bFUwSB-Lk"
   },
   "outputs": [
    {
     "data": {
      "text/plain": [
       "array([40, 50])"
      ]
     },
     "execution_count": 37,
     "metadata": {},
     "output_type": "execute_result"
    }
   ],
   "source": [
    "np.sum([[10,30],[20,30]],axis=1)"
   ]
  },
  {
   "cell_type": "code",
   "execution_count": 38,
   "metadata": {
    "id": "yG0WOUcrB-JR"
   },
   "outputs": [
    {
     "data": {
      "text/plain": [
       "90"
      ]
     },
     "execution_count": 38,
     "metadata": {},
     "output_type": "execute_result"
    }
   ],
   "source": [
    "np.sum([[10,30],[20,30]])"
   ]
  },
  {
   "cell_type": "markdown",
   "metadata": {
    "id": "yJmwPSEVCbBu"
   },
   "source": [
    "Numpy Array Mathematics : **SUBTRACTION**"
   ]
  },
  {
   "cell_type": "code",
   "execution_count": 39,
   "metadata": {
    "id": "AK2E5H3ZB-HF"
   },
   "outputs": [
    {
     "data": {
      "text/plain": [
       "-10"
      ]
     },
     "execution_count": 39,
     "metadata": {},
     "output_type": "execute_result"
    }
   ],
   "source": [
    "np.subtract(10,20)"
   ]
  },
  {
   "cell_type": "markdown",
   "metadata": {
    "id": "6TtYwLqcEInx"
   },
   "source": [
    "**All other numpy mathamatics function**"
   ]
  },
  {
   "cell_type": "code",
   "execution_count": 40,
   "metadata": {
    "id": "F4ynkPEUB-FJ"
   },
   "outputs": [
    {
     "data": {
      "text/plain": [
       "0.5"
      ]
     },
     "execution_count": 40,
     "metadata": {},
     "output_type": "execute_result"
    }
   ],
   "source": [
    "np.divide(10,20) #dividing two number"
   ]
  },
  {
   "cell_type": "code",
   "execution_count": 41,
   "metadata": {
    "id": "ieYUhB9aFarX"
   },
   "outputs": [
    {
     "data": {
      "text/plain": [
       "array([2., 2., 2.])"
      ]
     },
     "execution_count": 41,
     "metadata": {},
     "output_type": "execute_result"
    }
   ],
   "source": [
    "a=np.array([2,4,6])\n",
    "b=np.array([1,2,3])\n",
    "np.divide(a,b)"
   ]
  },
  {
   "cell_type": "code",
   "execution_count": 42,
   "metadata": {
    "id": "RA4ntf_vB-Cx"
   },
   "outputs": [
    {
     "data": {
      "text/plain": [
       "200"
      ]
     },
     "execution_count": 42,
     "metadata": {},
     "output_type": "execute_result"
    }
   ],
   "source": [
    "np.multiply(10,20) #multiplying two number"
   ]
  },
  {
   "cell_type": "code",
   "execution_count": 43,
   "metadata": {
    "id": "iKwbe44hF00v"
   },
   "outputs": [
    {
     "data": {
      "text/plain": [
       "array([ 2,  8, 18])"
      ]
     },
     "execution_count": 43,
     "metadata": {},
     "output_type": "execute_result"
    }
   ],
   "source": [
    "a=np.array([2,4,6])\n",
    "b=np.array([1,2,3])\n",
    "np.multiply(a,b)"
   ]
  },
  {
   "cell_type": "code",
   "execution_count": 44,
   "metadata": {
    "id": "OEDHfONYB-AX"
   },
   "outputs": [
    {
     "data": {
      "text/plain": [
       "array([2, 4, 6])"
      ]
     },
     "execution_count": 44,
     "metadata": {},
     "output_type": "execute_result"
    }
   ],
   "source": [
    "a1=np.subtract(10,20) #subtract two number\n",
    "a"
   ]
  },
  {
   "cell_type": "code",
   "execution_count": 45,
   "metadata": {
    "id": "mSpzKwY7B9-H"
   },
   "outputs": [
    {
     "name": "stdout",
     "output_type": "stream",
     "text": [
      "Exponent: 4.5399929762484854e-05\n",
      "Square root: nan\n",
      "Sin: [ 0.90929743 -0.7568025  -0.2794155 ]\n",
      "Cos: [-0.41614684 -0.65364362  0.96017029]\n",
      "Log: [0.69314718 1.38629436 1.79175947]\n"
     ]
    },
    {
     "name": "stderr",
     "output_type": "stream",
     "text": [
      "C:\\Users\\Admin\\AppData\\Local\\Temp\\ipykernel_11592\\428540516.py:3: RuntimeWarning: invalid value encountered in sqrt\n",
      "  print(\"Square root:\",np.sqrt(a1))\n"
     ]
    }
   ],
   "source": [
    "#exp,sqrt,sin,cos,log\n",
    "print(\"Exponent:\",np.exp(a1))\n",
    "print(\"Square root:\",np.sqrt(a1))\n",
    "print(\"Sin:\",np.sin(a))\n",
    "print(\"Cos:\",np.cos(a))\n",
    "print(\"Log:\",np.log(a))"
   ]
  },
  {
   "cell_type": "markdown",
   "metadata": {
    "id": "60EyO-wQIcFf"
   },
   "source": [
    "**Array Comparison**"
   ]
  },
  {
   "cell_type": "code",
   "execution_count": 47,
   "metadata": {
    "id": "n6ZHkbC8B97t"
   },
   "outputs": [
    {
     "data": {
      "text/plain": [
       "array([False,  True,  True])"
      ]
     },
     "execution_count": 47,
     "metadata": {},
     "output_type": "execute_result"
    }
   ],
   "source": [
    "#Element-wise camparison\n",
    "a=[1,2,4]\n",
    "b=[2,2,4]\n",
    "c=[1,2,4]\n",
    "np.equal(a,b)"
   ]
  },
  {
   "cell_type": "code",
   "execution_count": 48,
   "metadata": {
    "id": "zgXOl0_0B95U"
   },
   "outputs": [
    {
     "data": {
      "text/plain": [
       "array([ True,  True,  True])"
      ]
     },
     "execution_count": 48,
     "metadata": {},
     "output_type": "execute_result"
    }
   ],
   "source": [
    "np.equal(a,c)"
   ]
  },
  {
   "cell_type": "code",
   "execution_count": 49,
   "metadata": {
    "id": "BgqYfHUHB922"
   },
   "outputs": [
    {
     "data": {
      "text/plain": [
       "False"
      ]
     },
     "execution_count": 49,
     "metadata": {},
     "output_type": "execute_result"
    }
   ],
   "source": [
    "#Array-wise Camparison\n",
    "a=[1,2,4]\n",
    "b=[2,2,4]\n",
    "c=[1,2,4]\n",
    "np.array_equal(a,b)"
   ]
  },
  {
   "cell_type": "code",
   "execution_count": 50,
   "metadata": {
    "id": "_Vbcn7tkJNnj"
   },
   "outputs": [
    {
     "data": {
      "text/plain": [
       "True"
      ]
     },
     "execution_count": 50,
     "metadata": {},
     "output_type": "execute_result"
    }
   ],
   "source": [
    "np.array_equal(a,c)"
   ]
  },
  {
   "cell_type": "markdown",
   "metadata": {
    "id": "-Ua-5ch55vKg"
   },
   "source": [
    "**Aggregate function**"
   ]
  },
  {
   "cell_type": "code",
   "execution_count": 51,
   "metadata": {
    "id": "m3Qkn2TDJNk3"
   },
   "outputs": [
    {
     "name": "stdout",
     "output_type": "stream",
     "text": [
      "Sum: 7\n",
      "Minimum Value: 1\n",
      "Mean: 2.3333333333333335\n",
      "Median: 2.0\n",
      "Coorelation Deviation: 1.0\n",
      "Standard Deviation: 1.247219128924647\n"
     ]
    }
   ],
   "source": [
    "a=[1,2,4]\n",
    "b=[2,2,4]\n",
    "c=[1,2,4]\n",
    "print(\"Sum:\",np.sum(a)) #array wise sum\n",
    "print(\"Minimum Value:\",np.min(a)) #Minimum of an array\n",
    "print(\"Mean:\",np.mean(a))\n",
    "print(\"Median:\", np.median(a))\n",
    "print(\"Coorelation Deviation:\",np.corrcoef(a))\n",
    "print(\"Standard Deviation:\", np.std(a))"
   ]
  },
  {
   "cell_type": "markdown",
   "metadata": {
    "id": "YgKCvv6u_ON-"
   },
   "source": [
    "**Concept of broadcasting**"
   ]
  },
  {
   "cell_type": "code",
   "execution_count": 52,
   "metadata": {
    "id": "wZFKiEJQJNir"
   },
   "outputs": [
    {
     "name": "stdout",
     "output_type": "stream",
     "text": [
      "First Array:\n",
      " [[0 0 0]\n",
      " [1 2 3]\n",
      " [4 5 6]\n",
      " [5 6 7]] \n",
      "\n",
      "Second Array:\n",
      " [[0 1 2]] \n",
      "\n",
      "First Array+Second Array:\n",
      " [[0 2 4]] \n",
      "\n"
     ]
    }
   ],
   "source": [
    "a=np.array([[0,0,0],[1,2,3],[4,5,6],[5,6,7]])\n",
    "b=np.array([[0,1,2]])\n",
    "print(\"First Array:\\n\",a,'\\n')\n",
    "print(\"Second Array:\\n\",b,'\\n')\n",
    "print(\"First Array+Second Array:\\n\",b+b,'\\n')"
   ]
  },
  {
   "cell_type": "markdown",
   "metadata": {
    "id": "O5zomOHsCRCp"
   },
   "source": [
    "**Array manipulation in python:**"
   ]
  },
  {
   "cell_type": "code",
   "execution_count": 53,
   "metadata": {
    "id": "aukN3njZJNgX"
   },
   "outputs": [
    {
     "data": {
      "text/plain": [
       "array([1, 2, 3, 4, 5, 6])"
      ]
     },
     "execution_count": 53,
     "metadata": {},
     "output_type": "execute_result"
    }
   ],
   "source": [
    "#concatenation of two array\n",
    "a=np.array([1,2,3])\n",
    "b=np.array([4,5,6])\n",
    "np.concatenate((a,b))"
   ]
  },
  {
   "cell_type": "code",
   "execution_count": 54,
   "metadata": {
    "id": "fWE8KSb5JNeM"
   },
   "outputs": [
    {
     "data": {
      "text/plain": [
       "array([1, 2, 3, 4, 5, 6])"
      ]
     },
     "execution_count": 54,
     "metadata": {},
     "output_type": "execute_result"
    }
   ],
   "source": [
    "#stack array row-wise:Horizantal\n",
    "np.hstack((a,b))"
   ]
  },
  {
   "cell_type": "code",
   "execution_count": 55,
   "metadata": {
    "id": "9s9gzt6VJNb3"
   },
   "outputs": [
    {
     "data": {
      "text/plain": [
       "array([[1, 2, 3],\n",
       "       [4, 5, 6]])"
      ]
     },
     "execution_count": 55,
     "metadata": {},
     "output_type": "execute_result"
    }
   ],
   "source": [
    "#stack array row-wise: Vertically\n",
    "np.vstack((a,b))"
   ]
  },
  {
   "cell_type": "code",
   "execution_count": 56,
   "metadata": {
    "id": "T5qXaJweJNZo"
   },
   "outputs": [
    {
     "data": {
      "text/plain": [
       "array([[1, 4],\n",
       "       [2, 5],\n",
       "       [3, 6]])"
      ]
     },
     "execution_count": 56,
     "metadata": {},
     "output_type": "execute_result"
    }
   ],
   "source": [
    "#combining column wise\n",
    "np.column_stack((a,b))"
   ]
  },
  {
   "cell_type": "markdown",
   "metadata": {
    "id": "_giRr48rEYRp"
   },
   "source": [
    "**Spltting array**"
   ]
  },
  {
   "cell_type": "code",
   "execution_count": 57,
   "metadata": {
    "id": "n5Rvrw9YJNW_"
   },
   "outputs": [
    {
     "name": "stdout",
     "output_type": "stream",
     "text": [
      "[[ 0  1  2  3]\n",
      " [ 4  5  6  7]\n",
      " [ 8  9 10 11]\n",
      " [12 13 14 15]] \n",
      "\n",
      "\n",
      "[array([[ 0,  1],\n",
      "       [ 4,  5],\n",
      "       [ 8,  9],\n",
      "       [12, 13]]), array([[ 2,  3],\n",
      "       [ 6,  7],\n",
      "       [10, 11],\n",
      "       [14, 15]])]\n",
      "\n",
      "\n",
      " [array([[ 0,  1],\n",
      "       [ 4,  5],\n",
      "       [ 8,  9],\n",
      "       [12, 13]]), array([[ 2],\n",
      "       [ 6],\n",
      "       [10],\n",
      "       [14]]), array([[ 3],\n",
      "       [ 7],\n",
      "       [11],\n",
      "       [15]])]\n"
     ]
    }
   ],
   "source": [
    "x=np.arange(16).reshape(4,4)\n",
    "print(x,\"\\n\\n\")\n",
    "print(np.hsplit(x,2))\n",
    "print(\"\\n\\n\",np.hsplit(x,np.array([2,3])))"
   ]
  },
  {
   "cell_type": "markdown",
   "metadata": {
    "id": "X3lcutaPk_ZU"
   },
   "source": [
    "**Indexing in python**"
   ]
  },
  {
   "cell_type": "code",
   "execution_count": 58,
   "metadata": {
    "id": "qW-BJj-tEddI"
   },
   "outputs": [
    {
     "data": {
      "text/plain": [
       "['y', 'o', 'g', 'e', 's', 'h', '']"
      ]
     },
     "execution_count": 58,
     "metadata": {},
     "output_type": "execute_result"
    }
   ],
   "source": [
    "a=['y','o','g','e','s','h','','k','a','s','a','r']\n",
    "a[0:7]"
   ]
  },
  {
   "cell_type": "code",
   "execution_count": 59,
   "metadata": {
    "id": "UMd8PoFQEdaW"
   },
   "outputs": [
    {
     "data": {
      "text/plain": [
       "['s', 'h', '', 'k', 'a']"
      ]
     },
     "execution_count": 59,
     "metadata": {},
     "output_type": "execute_result"
    }
   ],
   "source": [
    "a[4:9]"
   ]
  },
  {
   "cell_type": "code",
   "execution_count": 60,
   "metadata": {
    "id": "50OJzcCXEdYJ"
   },
   "outputs": [
    {
     "data": {
      "text/plain": [
       "['o', 'g', 'e', 's', 'h', '']"
      ]
     },
     "execution_count": 60,
     "metadata": {},
     "output_type": "execute_result"
    }
   ],
   "source": [
    "a[-11:-5] "
   ]
  },
  {
   "cell_type": "markdown",
   "metadata": {
    "id": "-qX_VnQ4u7Q9"
   },
   "source": [
    "**Slicing in python**"
   ]
  },
  {
   "cell_type": "code",
   "execution_count": 61,
   "metadata": {
    "id": "WIjyFzKgEdVi"
   },
   "outputs": [
    {
     "data": {
      "text/plain": [
       "array([[1, 2, 3],\n",
       "       [4, 5, 6],\n",
       "       [7, 8, 9]])"
      ]
     },
     "execution_count": 61,
     "metadata": {},
     "output_type": "execute_result"
    }
   ],
   "source": [
    "b=np.array([[1,2,3],[4,5,6],[7,8,9]])\n",
    "b"
   ]
  },
  {
   "cell_type": "code",
   "execution_count": 62,
   "metadata": {
    "id": "M3TOV1Lc0vFs"
   },
   "outputs": [
    {
     "data": {
      "text/plain": [
       "array([[1, 2],\n",
       "       [4, 5]])"
      ]
     },
     "execution_count": 62,
     "metadata": {},
     "output_type": "execute_result"
    }
   ],
   "source": [
    "b[:2,:2] #[row,column]"
   ]
  },
  {
   "cell_type": "code",
   "execution_count": 63,
   "metadata": {
    "id": "FKLNvH561Zc2"
   },
   "outputs": [
    {
     "data": {
      "text/plain": [
       "array([[4, 5],\n",
       "       [7, 8]])"
      ]
     },
     "execution_count": 63,
     "metadata": {},
     "output_type": "execute_result"
    }
   ],
   "source": [
    "b[1:,:2]"
   ]
  },
  {
   "cell_type": "code",
   "execution_count": 64,
   "metadata": {
    "id": "k73M2pWZEdS6"
   },
   "outputs": [
    {
     "data": {
      "text/plain": [
       "array([[1, 2, 3],\n",
       "       [4, 5, 6]])"
      ]
     },
     "execution_count": 64,
     "metadata": {},
     "output_type": "execute_result"
    }
   ],
   "source": [
    "b[:2]"
   ]
  },
  {
   "cell_type": "code",
   "execution_count": 65,
   "metadata": {
    "id": "9CaDWRUdwIsm"
   },
   "outputs": [
    {
     "data": {
      "text/plain": [
       "array([[2, 3],\n",
       "       [5, 6]])"
      ]
     },
     "execution_count": 65,
     "metadata": {},
     "output_type": "execute_result"
    }
   ],
   "source": [
    "b[:2,1:]"
   ]
  },
  {
   "cell_type": "code",
   "execution_count": 66,
   "metadata": {
    "id": "5BE3STv7wIqI"
   },
   "outputs": [
    {
     "data": {
      "text/plain": [
       "array([[5, 6],\n",
       "       [8, 9]])"
      ]
     },
     "execution_count": 66,
     "metadata": {},
     "output_type": "execute_result"
    }
   ],
   "source": [
    "b[1:,1:]"
   ]
  },
  {
   "cell_type": "code",
   "execution_count": 67,
   "metadata": {
    "id": "XnazTy5GwInb"
   },
   "outputs": [
    {
     "data": {
      "text/plain": [
       "array([[4, 5],\n",
       "       [7, 8]])"
      ]
     },
     "execution_count": 67,
     "metadata": {},
     "output_type": "execute_result"
    }
   ],
   "source": [
    "b[1:,:2]"
   ]
  },
  {
   "cell_type": "code",
   "execution_count": 68,
   "metadata": {
    "id": "Q-dvtlLwwIku"
   },
   "outputs": [
    {
     "data": {
      "text/plain": [
       "array([[460, 165, 370, 104, 147],\n",
       "       [401, 322, 440, 184, 225],\n",
       "       [226, 228, 270,  40, 323],\n",
       "       [415,  25, 199, 384, 221],\n",
       "       [350,  38, 249, 314, 493],\n",
       "       [  7,  98, 411, 356, 410]])"
      ]
     },
     "execution_count": 68,
     "metadata": {},
     "output_type": "execute_result"
    }
   ],
   "source": [
    "a=np.random.randint(1,500,30).reshape(6,5) #random\n",
    "a"
   ]
  },
  {
   "cell_type": "code",
   "execution_count": 69,
   "metadata": {
    "id": "P7OcnAlEEdNa"
   },
   "outputs": [
    {
     "data": {
      "text/plain": [
       "array([[370, 104, 147],\n",
       "       [440, 184, 225],\n",
       "       [270,  40, 323],\n",
       "       [199, 384, 221]])"
      ]
     },
     "execution_count": 69,
     "metadata": {},
     "output_type": "execute_result"
    }
   ],
   "source": [
    "a[:4,2:]"
   ]
  },
  {
   "cell_type": "code",
   "execution_count": 70,
   "metadata": {
    "id": "BK9hiqjpywXJ"
   },
   "outputs": [
    {
     "data": {
      "text/plain": [
       "array([[226, 228, 270],\n",
       "       [415,  25, 199],\n",
       "       [350,  38, 249],\n",
       "       [  7,  98, 411]])"
      ]
     },
     "execution_count": 70,
     "metadata": {},
     "output_type": "execute_result"
    }
   ],
   "source": [
    "a[2:,:3]"
   ]
  },
  {
   "cell_type": "markdown",
   "metadata": {
    "id": "faqUhVF13l0W"
   },
   "source": [
    "**Advantages of numpy over list**\n",
    "\n",
    "1.consumes less memory\n",
    "2.faster\n",
    "3.more convenient\n"
   ]
  },
  {
   "cell_type": "code",
   "execution_count": 71,
   "metadata": {
    "id": "tX9THHIpywUW"
   },
   "outputs": [
    {
     "name": "stdout",
     "output_type": "stream",
     "text": [
      "Size of list: 28000\n",
      "Size of numpy: 4000\n"
     ]
    }
   ],
   "source": [
    "#numpy vs list: Memory size\n",
    "import numpy as np\n",
    "import sys\n",
    "#list\n",
    "lis=range(1000)\n",
    "print(\"Size of list:\",sys.getsizeof(1)*len(lis))\n",
    "#numpy\n",
    "a=np.arange(1000)\n",
    "print(\"Size of numpy:\",a.size*a.itemsize)"
   ]
  },
  {
   "cell_type": "code",
   "execution_count": 72,
   "metadata": {
    "id": "SDnbWYcHywSU"
   },
   "outputs": [
    {
     "name": "stdout",
     "output_type": "stream",
     "text": [
      "0.0009975433349609375 1669572712.691637\n",
      "Numpy is this example5.974842110067353e-13faster!\n"
     ]
    }
   ],
   "source": [
    "#numpy vs list: speed\n",
    "import time\n",
    "def using_list():\n",
    "  t1=time.time() #starting/initial time\n",
    "  X=range(1000)\n",
    "  Y=range(1000)\n",
    "  z=[X[i]+Y[i] for i in range (len(X))]\n",
    "  return time.time()-t1\n",
    "\n",
    "def using_numpy():\n",
    "  t2=time.time()\n",
    "  a=np.arange(1000)\n",
    "  b=np.arange(1000)\n",
    "  z= a+b #more convient than list\n",
    "  return time.time()-t1\n",
    "\n",
    "t1=using_list()\n",
    "t2=using_numpy()\n",
    "print(t1,t2)\n",
    "print(\"Numpy is this example\"+str(t1/t2)+\"faster!\")"
   ]
  },
  {
   "cell_type": "code",
   "execution_count": null,
   "metadata": {
    "id": "tTgZTkw9ywO-"
   },
   "outputs": [],
   "source": []
  },
  {
   "cell_type": "code",
   "execution_count": null,
   "metadata": {
    "id": "lt7HKYDBywJp"
   },
   "outputs": [],
   "source": []
  },
  {
   "cell_type": "code",
   "execution_count": null,
   "metadata": {
    "id": "V-zQj-JdywFm"
   },
   "outputs": [],
   "source": []
  }
 ],
 "metadata": {
  "colab": {
   "private_outputs": true,
   "provenance": []
  },
  "kernelspec": {
   "display_name": "Python 3 (ipykernel)",
   "language": "python",
   "name": "python3"
  },
  "language_info": {
   "codemirror_mode": {
    "name": "ipython",
    "version": 3
   },
   "file_extension": ".py",
   "mimetype": "text/x-python",
   "name": "python",
   "nbconvert_exporter": "python",
   "pygments_lexer": "ipython3",
   "version": "3.9.13"
  }
 },
 "nbformat": 4,
 "nbformat_minor": 4
}
