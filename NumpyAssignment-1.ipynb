{
 "cells": [
  {
   "cell_type": "markdown",
   "metadata": {
    "id": "PLtgzfotf2MS"
   },
   "source": [
    " **Numpy** **Assignment**"
   ]
  },
  {
   "cell_type": "markdown",
   "metadata": {
    "id": "CXejuZJAe3Oq"
   },
   "source": [
    "**1. Create a function that takes dimensions as tuples e.g.(3, 3) and a numeric value and returns a\n",
    "Numpy array of the given dimension filled with the given value e.g.: solve((3, 3), 5) will return\n",
    "[\n",
    " [5, 5, 5],\n",
    " [5, 5, 5],\n",
    " [5, 5, 5]\n",
    "]**"
   ]
  },
  {
   "cell_type": "code",
   "execution_count": 1,
   "metadata": {
    "id": "SzCJ8lBves_g"
   },
   "outputs": [],
   "source": [
    "import numpy as np"
   ]
  },
  {
   "cell_type": "code",
   "execution_count": 2,
   "metadata": {
    "id": "e46Jb_dnhj06"
   },
   "outputs": [],
   "source": [
    "def fun(dim_tuple, fillnumber):\n",
    "  return np.full(dim_tuple,fillnumber)\n",
    "a=fun((3,3),5)"
   ]
  },
  {
   "cell_type": "code",
   "execution_count": 3,
   "metadata": {
    "id": "pVOa3Ueeg7M5"
   },
   "outputs": [
    {
     "data": {
      "text/plain": [
       "array([[5, 5, 5],\n",
       "       [5, 5, 5],\n",
       "       [5, 5, 5]])"
      ]
     },
     "execution_count": 3,
     "metadata": {},
     "output_type": "execute_result"
    }
   ],
   "source": [
    "a"
   ]
  },
  {
   "cell_type": "markdown",
   "metadata": {
    "id": "L3-8DeppiWmj"
   },
   "source": [
    "**2. Create a method that takes n Numpy arrays of same dimensions sums them and return the\n",
    "answer.**"
   ]
  },
  {
   "cell_type": "code",
   "execution_count": 4,
   "metadata": {
    "id": "urn5tgxZeyMq"
   },
   "outputs": [
    {
     "data": {
      "text/plain": [
       "array([3, 3])"
      ]
     },
     "execution_count": 4,
     "metadata": {},
     "output_type": "execute_result"
    }
   ],
   "source": [
    "n=np.array([3,3])\n",
    "m=np.array([3,3])\n",
    "n"
   ]
  },
  {
   "cell_type": "code",
   "execution_count": 5,
   "metadata": {
    "id": "tp1z0yMPmdHq"
   },
   "outputs": [
    {
     "data": {
      "text/plain": [
       "array([3, 3])"
      ]
     },
     "execution_count": 5,
     "metadata": {},
     "output_type": "execute_result"
    }
   ],
   "source": [
    "m"
   ]
  },
  {
   "cell_type": "code",
   "execution_count": 6,
   "metadata": {
    "id": "Hh03EE9seyQC"
   },
   "outputs": [
    {
     "data": {
      "text/plain": [
       "12"
      ]
     },
     "execution_count": 6,
     "metadata": {},
     "output_type": "execute_result"
    }
   ],
   "source": [
    "np.sum(n+m)"
   ]
  },
  {
   "cell_type": "markdown",
   "metadata": {
    "id": "wBJ4ouavmnZw"
   },
   "source": [
    "**3.Given a 2 D Array of N X M Dimension, Write a function that accepts this array as well as two\n",
    "numbers N and M. The method should return the top-left N X M sub matrix e.g:\n",
    " [\n",
    " [1, 2, 3],\n",
    " [4, 5, 6],\n",
    " [7, 8, 9],\n",
    " ]\n",
    " top_left_sub_matrix (matrix, 2, 2) -> should return:\n",
    " [\n",
    " [1, 2]\n",
    " [4, 5]\n",
    " ]**"
   ]
  },
  {
   "cell_type": "code",
   "execution_count": 9,
   "metadata": {
    "id": "Z4AwRT67eyTL"
   },
   "outputs": [
    {
     "name": "stdout",
     "output_type": "stream",
     "text": [
      "[[1 2 3]\n",
      " [4 5 6]\n",
      " [7 8 9]]\n"
     ]
    }
   ],
   "source": [
    "import numpy as np\n",
    "x=np.arange(1,10)\n",
    "b=np.reshape(x,(3,3))\n",
    "print(b)"
   ]
  },
  {
   "cell_type": "code",
   "execution_count": 10,
   "metadata": {
    "id": "qO-EV8EneyVk"
   },
   "outputs": [
    {
     "data": {
      "text/plain": [
       "array([[1, 2],\n",
       "       [4, 5]])"
      ]
     },
     "execution_count": 10,
     "metadata": {},
     "output_type": "execute_result"
    }
   ],
   "source": [
    "#top_left_sub_matrix\n",
    "b[:2,:2]"
   ]
  },
  {
   "cell_type": "markdown",
   "metadata": {
    "id": "EbkslNkyrQ9z"
   },
   "source": [
    "**4.Given a 2 D Array of N X M Dimension, Write a function that accepts this array as well as two\n",
    "numbers N and M The method should return the bottom-right N X M sub matrix e.g.:\n",
    " [\n",
    " [1, 2, 3],\n",
    " [4, 5, 6],\n",
    " [7, 8, 9],\n",
    " ]\n",
    "sub_matrix(matrix, 1, 1) -> should return : (Keep in mind these arrays are zero indexed)\n",
    " [\n",
    " [5, 6]\n",
    " [8, 9]\n",
    " ]**\n"
   ]
  },
  {
   "cell_type": "code",
   "execution_count": 11,
   "metadata": {
    "id": "oJa615CKoyVt"
   },
   "outputs": [
    {
     "name": "stdout",
     "output_type": "stream",
     "text": [
      "[[1 2 3]\n",
      " [4 5 6]\n",
      " [7 8 9]]\n"
     ]
    }
   ],
   "source": [
    "import numpy as np\n",
    "x=np.arange(1,10)\n",
    "b=np.reshape(x,(3,3))\n",
    "print(b)"
   ]
  },
  {
   "cell_type": "code",
   "execution_count": 12,
   "metadata": {
    "id": "GEutOs5reyYB"
   },
   "outputs": [
    {
     "data": {
      "text/plain": [
       "array([[5, 6],\n",
       "       [8, 9]])"
      ]
     },
     "execution_count": 12,
     "metadata": {},
     "output_type": "execute_result"
    }
   ],
   "source": [
    "#bottom-right N X M sub matrix \n",
    "b[1:,1:]"
   ]
  },
  {
   "cell_type": "markdown",
   "metadata": {
    "id": "mIKt4UhetFOz"
   },
   "source": [
    "**5. Given a 1 D Numpy Array. Write a function that accepts this array as parameters. The method\n",
    "should return a dictionary with 'mean' and 'std_dev' as key and array's mean and array's\n",
    "standard deviation as values:\n",
    " [1, 1, 1]\n",
    "solution(arr) -> should return :\n",
    " {'mean': 1.0, 'std_dev': 0.0}**"
   ]
  },
  {
   "cell_type": "code",
   "execution_count": 14,
   "metadata": {
    "id": "i9l9XS0JeyaS"
   },
   "outputs": [
    {
     "data": {
      "text/plain": [
       "{'mean': 1.0, 'std_dev': 0.0}"
      ]
     },
     "execution_count": 14,
     "metadata": {},
     "output_type": "execute_result"
    }
   ],
   "source": [
    "import numpy as np\n",
    "a=np.array([1,1,1])\n",
    "a\n",
    "dict1={'mean':np.mean(a),'std_dev':np.std(a)}\n",
    "dict1"
   ]
  },
  {
   "cell_type": "markdown",
   "metadata": {
    "id": "j-6t8sNGhrWS"
   },
   "source": [
    "Create np array of zeros of size(2,3)"
   ]
  },
  {
   "cell_type": "code",
   "execution_count": 15,
   "metadata": {
    "id": "WTf2esPaapMW"
   },
   "outputs": [
    {
     "data": {
      "text/plain": [
       "array([[0., 0., 0.],\n",
       "       [0., 0., 0.]])"
      ]
     },
     "execution_count": 15,
     "metadata": {},
     "output_type": "execute_result"
    }
   ],
   "source": [
    "import numpy as np\n",
    "np.zeros((2,3))"
   ]
  },
  {
   "cell_type": "markdown",
   "metadata": {
    "id": "1q6sXENEh7YR"
   },
   "source": [
    "flatten 2D np array to 1D array"
   ]
  },
  {
   "cell_type": "code",
   "execution_count": 16,
   "metadata": {
    "id": "AMtWuagfeycy"
   },
   "outputs": [
    {
     "data": {
      "text/plain": [
       "array([1, 2, 3, 4, 5, 6])"
      ]
     },
     "execution_count": 16,
     "metadata": {},
     "output_type": "execute_result"
    }
   ],
   "source": [
    "import numpy as np\n",
    "arr=np.array([[1,2,3],[4,5,6]])\n",
    "arr.ravel()"
   ]
  },
  {
   "cell_type": "markdown",
   "metadata": {
    "id": "YbtTd_pSinYb"
   },
   "source": [
    " Convert 1D np Array to 2d np array from a python list"
   ]
  },
  {
   "cell_type": "code",
   "execution_count": 17,
   "metadata": {
    "id": "Ek39jSE5eyfC"
   },
   "outputs": [
    {
     "data": {
      "text/plain": [
       "array([[1, 2, 3],\n",
       "       [4, 5, 6]])"
      ]
     },
     "execution_count": 17,
     "metadata": {},
     "output_type": "execute_result"
    }
   ],
   "source": [
    "arr1=np.array([1,2,3,4,5,6])\n",
    "arr.reshape(2,3)"
   ]
  },
  {
   "cell_type": "markdown",
   "metadata": {
    "id": "omeGMhfpjUhK"
   },
   "source": [
    " Create np array and sort sort"
   ]
  },
  {
   "cell_type": "code",
   "execution_count": 18,
   "metadata": {
    "id": "PkZl8LOMeykK"
   },
   "outputs": [
    {
     "data": {
      "text/plain": [
       "array([1, 2, 3, 4, 5, 6])"
      ]
     },
     "execution_count": 18,
     "metadata": {},
     "output_type": "execute_result"
    }
   ],
   "source": [
    "arr2=np.array([1,6,2,3,5,4])\n",
    "arr2.sort()\n",
    "arr2"
   ]
  },
  {
   "cell_type": "markdown",
   "metadata": {
    "id": "kr-8S4Z6lfOq"
   },
   "source": [
    " Create a 3x3 matrix array with values ranging from 2 to 10"
   ]
  },
  {
   "cell_type": "code",
   "execution_count": 19,
   "metadata": {
    "id": "Ol8CjKmUlhqR"
   },
   "outputs": [
    {
     "data": {
      "text/plain": [
       "array([[ 2,  3,  4],\n",
       "       [ 5,  6,  7],\n",
       "       [ 8,  9, 10]])"
      ]
     },
     "execution_count": 19,
     "metadata": {},
     "output_type": "execute_result"
    }
   ],
   "source": [
    "from numpy.core.fromnumeric import reshape\n",
    "import numpy as np\n",
    "a=np.arange(2,11)\n",
    "b=reshape(a,(3,3))\n",
    "b"
   ]
  },
  {
   "cell_type": "markdown",
   "metadata": {
    "id": "t4-Jn6NpmHiy"
   },
   "source": [
    "**6.Create a numpy array having user input values and convert the integer type to the float type\n",
    "of the elements of the array. For instance:\n",
    "Original array\n",
    "[1, 2, 3, 4]\n",
    "Array converted to a float type:\n",
    "[ 1. 2. 3. 4.]**\n"
   ]
  },
  {
   "cell_type": "code",
   "execution_count": 28,
   "metadata": {
    "id": "9tUBWKX1lhnZ"
   },
   "outputs": [
    {
     "name": "stdout",
     "output_type": "stream",
     "text": [
      "Original array\n",
      "[1, 2, 3, 4]\n",
      "Array converted to a float type:\n",
      "[1. 2. 3. 4.]\n"
     ]
    }
   ],
   "source": [
    "import numpy as np\n",
    "a = [1, 2, 3, 4]\n",
    "print(\"Original array\")\n",
    "print(a)\n",
    "x = np.asfarray(a)\n",
    "print(\"Array converted to a float type:\")\n",
    "print(x)"
   ]
  },
  {
   "cell_type": "markdown",
   "metadata": {
    "id": "BvDaeWPNqZrK"
   },
   "source": [
    "**7.Write a Numpy program to append values to the end of an array. For instance:\n",
    "Original array:\n",
    "[10, 20, 30]\n",
    "After append values to the end of the array:\n",
    "[10 20 30 40 50 60 70 80 90]**\n"
   ]
  },
  {
   "cell_type": "code",
   "execution_count": 29,
   "metadata": {
    "id": "uRnp2BWFlhiV"
   },
   "outputs": [
    {
     "name": "stdout",
     "output_type": "stream",
     "text": [
      "Original Array\n",
      "[10 20 30]\n"
     ]
    }
   ],
   "source": [
    "import numpy as np\n",
    "a=np.array([10,20,30])\n",
    "print(\"Original Array\")\n",
    "print(a)"
   ]
  },
  {
   "cell_type": "code",
   "execution_count": 30,
   "metadata": {
    "id": "UXCvOX12lhfv"
   },
   "outputs": [
    {
     "name": "stdout",
     "output_type": "stream",
     "text": [
      "Append array\n",
      "[10 20 30 40 50 60 70 80 90]\n"
     ]
    }
   ],
   "source": [
    "a=np.append(a,[[40,50,60],[70,80,90]])\n",
    "print(\"Append array\")\n",
    "print(a)"
   ]
  },
  {
   "cell_type": "markdown",
   "metadata": {
    "id": "40efvcRX20d2"
   },
   "source": [
    "**8.Create two numpy arrays and add the elements of both the arrays and store the result in\n",
    "sumArray**"
   ]
  },
  {
   "cell_type": "code",
   "execution_count": 31,
   "metadata": {
    "id": "qEUhFhhO2ygO"
   },
   "outputs": [
    {
     "name": "stdout",
     "output_type": "stream",
     "text": [
      "array 1: [1 2 3]\n",
      "array 2: [2 2 3]\n",
      "Sum of two array: [3 4 6]\n"
     ]
    }
   ],
   "source": [
    "a=np.array([1,2,3])\n",
    "print(\"array 1:\",a)\n",
    "b=np.array([2,2,3])\n",
    "print(\"array 2:\",b)\n",
    "sumArray=a+b\n",
    "print(\"Sum of two array:\",sumArray)\n"
   ]
  },
  {
   "cell_type": "markdown",
   "metadata": {
    "id": "ftVnwCY2jEQR"
   },
   "source": [
    "**9.Create a 3*3 array having values from 10-90(interval of 10) and store that in array1. Perform \n",
    "the following tasks:\n",
    "a. Extract the 1st row from the array.\n",
    "b. Extract the last element from the array**"
   ]
  },
  {
   "cell_type": "code",
   "execution_count": 32,
   "metadata": {
    "id": "SDLUWNQ6lhdT"
   },
   "outputs": [
    {
     "name": "stdout",
     "output_type": "stream",
     "text": [
      "[[10 20 30]\n",
      " [40 50 60]\n",
      " [70 80 90]]\n"
     ]
    }
   ],
   "source": [
    "import numpy as np\n",
    "array1 = [[30*y + 10*x for x in range(1, 4)] for y in range(3)]\n",
    "a = np.squeeze(np.asarray(array1))\n",
    "print(a)"
   ]
  },
  {
   "cell_type": "code",
   "execution_count": 33,
   "metadata": {
    "id": "WmJsoZXZlhap"
   },
   "outputs": [
    {
     "name": "stdout",
     "output_type": "stream",
     "text": [
      "[[10 20 30]]\n"
     ]
    }
   ],
   "source": [
    "# Extract the 1st row from the array\n",
    "print(a[:1])"
   ]
  },
  {
   "cell_type": "code",
   "execution_count": 34,
   "metadata": {
    "id": "4yVrYKVhlhYO"
   },
   "outputs": [
    {
     "name": "stdout",
     "output_type": "stream",
     "text": [
      "90\n"
     ]
    }
   ],
   "source": [
    "#Extract the last element from the array\n",
    "print(a[2][2])"
   ]
  },
  {
   "cell_type": "code",
   "execution_count": null,
   "metadata": {
    "id": "X5MKzaJulhVj"
   },
   "outputs": [],
   "source": []
  },
  {
   "cell_type": "code",
   "execution_count": null,
   "metadata": {
    "id": "9LeIA2-glhSZ"
   },
   "outputs": [],
   "source": []
  },
  {
   "cell_type": "code",
   "execution_count": null,
   "metadata": {
    "id": "TfTEdavMeynC"
   },
   "outputs": [],
   "source": []
  },
  {
   "cell_type": "code",
   "execution_count": null,
   "metadata": {
    "id": "5hhgpAU1eyph"
   },
   "outputs": [],
   "source": []
  },
  {
   "cell_type": "code",
   "execution_count": null,
   "metadata": {
    "id": "N9QE-TLAeysh"
   },
   "outputs": [],
   "source": []
  }
 ],
 "metadata": {
  "colab": {
   "private_outputs": true,
   "provenance": []
  },
  "kernelspec": {
   "display_name": "Python 3 (ipykernel)",
   "language": "python",
   "name": "python3"
  },
  "language_info": {
   "codemirror_mode": {
    "name": "ipython",
    "version": 3
   },
   "file_extension": ".py",
   "mimetype": "text/x-python",
   "name": "python",
   "nbconvert_exporter": "python",
   "pygments_lexer": "ipython3",
   "version": "3.9.13"
  }
 },
 "nbformat": 4,
 "nbformat_minor": 4
}
